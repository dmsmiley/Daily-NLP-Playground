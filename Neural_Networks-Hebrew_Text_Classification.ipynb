{
 "cells": [
  {
   "cell_type": "code",
   "execution_count": 6,
   "id": "introductory-schema",
   "metadata": {},
   "outputs": [
    {
     "name": "stderr",
     "output_type": "stream",
     "text": [
      "[nltk_data] Downloading package punkt to /Users/David/nltk_data...\n",
      "[nltk_data]   Unzipping tokenizers/punkt.zip.\n"
     ]
    },
    {
     "data": {
      "text/plain": [
       "True"
      ]
     },
     "execution_count": 6,
     "metadata": {},
     "output_type": "execute_result"
    }
   ],
   "source": [
    "import nltk\n",
    "from nltk.stem.lancaster import LancasterStemmer\n",
    "import os\n",
    "import json\n",
    "import datetime\n",
    "stemmer = LancasterStemmer()\n",
    "nltk.download('punkt')"
   ]
  },
  {
   "cell_type": "markdown",
   "id": "demonstrated-participant",
   "metadata": {},
   "source": [
    "https://machinelearnings.co/text-classification-using-neural-networks-f5cd7b8765c6"
   ]
  },
  {
   "cell_type": "code",
   "execution_count": 2,
   "id": "southern-bulgaria",
   "metadata": {},
   "outputs": [
    {
     "name": "stdout",
     "output_type": "stream",
     "text": [
      "12 sentences in training data\n"
     ]
    }
   ],
   "source": [
    "# 3 classes of training data\n",
    "training_data = []\n",
    "training_data.append({\"class\":\"greeting\", \"sentence\": \"שׁלום\"})\n",
    "training_data.append({\"class\":\"greeting\", \"sentence\": \"מה קורה\"})\n",
    "training_data.append({\"class\":\"greeting\", \"sentence\": \"אלהן\"})\n",
    "training_data.append({\"class\":\"greeting\", \"sentence\": \"מה נשׁמע\"})\n",
    "\n",
    "training_data.append({\"class\":\"goodbye\", \"sentence\": \"יום טוב\"})\n",
    "training_data.append({\"class\":\"goodbye\", \"sentence\": \"ביי\"})\n",
    "training_data.append({\"class\":\"goodbye\", \"sentence\": \"להתראות\"})\n",
    "training_data.append({\"class\":\"goodbye\", \"sentence\": \"יאללה\"})\n",
    "\n",
    "training_data.append({\"class\":\"lunch\", \"sentence\": \"אתה רוצה ארוחת צהריים\"})\n",
    "training_data.append({\"class\":\"lunch\", \"sentence\": \"אתה רוצה ארומה\"})\n",
    "training_data.append({\"class\":\"lunch\", \"sentence\": \"אתה רוצה חומוס\"})\n",
    "training_data.append({\"class\":\"lunch\", \"sentence\": \"אתה רוצה שווארמה\"})\n",
    "\n",
    "print(\"%s sentences in training data\" % len(training_data))"
   ]
  },
  {
   "cell_type": "code",
   "execution_count": 8,
   "id": "economic-retailer",
   "metadata": {},
   "outputs": [
    {
     "name": "stdout",
     "output_type": "stream",
     "text": [
      "12 documents\n",
      "3 classes ['goodbye', 'greeting', 'lunch']\n",
      "17 unique stemmed words ['יאללה', 'קורה', 'להתראות', 'אתה', 'חומוס', 'רוצה', 'ארומה', 'טוב', 'שווארמה', 'ארוחת', 'צהריים', 'יום', 'שׁלום', 'נשׁמע', 'מה', 'אלהן', 'ביי']\n"
     ]
    }
   ],
   "source": [
    "words = []\n",
    "classes = []\n",
    "documents = []\n",
    "\n",
    "# loop through each sentence in training data\n",
    "for pattern in training_data:\n",
    "    # tokenize each word in sentence\n",
    "    w = nltk.word_tokenize(pattern['sentence'])\n",
    "    # add to our word list\n",
    "    words.extend(w)\n",
    "    # add to documents in our corpus\n",
    "    documents.append((w, pattern['class']))\n",
    "    # add to our classes list\n",
    "    if pattern['class'] not in classes:\n",
    "        classes.append(pattern['class'])\n",
    "        \n",
    "        \n",
    "# stem and lower each work and remove duplicates\n",
    "words = [stemmer.stem(w.lower()) for w in words]\n",
    "words = list(set(words))\n",
    "\n",
    "# remove duplicates\n",
    "classes = list(set(classes))\n",
    "\n",
    "print(len(documents), 'documents')\n",
    "print(len(classes), 'classes', classes)\n",
    "print(len(words), 'unique stemmed words', words)"
   ]
  },
  {
   "cell_type": "code",
   "execution_count": null,
   "id": "ordered-brick",
   "metadata": {},
   "outputs": [],
   "source": []
  }
 ],
 "metadata": {
  "kernelspec": {
   "display_name": "Python 3",
   "language": "python",
   "name": "python3"
  },
  "language_info": {
   "codemirror_mode": {
    "name": "ipython",
    "version": 3
   },
   "file_extension": ".py",
   "mimetype": "text/x-python",
   "name": "python",
   "nbconvert_exporter": "python",
   "pygments_lexer": "ipython3",
   "version": "3.8.5"
  }
 },
 "nbformat": 4,
 "nbformat_minor": 5
}
